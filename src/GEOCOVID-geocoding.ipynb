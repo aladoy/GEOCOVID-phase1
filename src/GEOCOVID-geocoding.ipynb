{
 "cells": [
  {
   "cell_type": "markdown",
   "metadata": {},
   "source": [
    "# GEOCOVID - Geocode tests"
   ]
  },
  {
   "cell_type": "code",
   "execution_count": 23,
   "metadata": {},
   "outputs": [],
   "source": [
    "#LIBRARIES\n",
    "#Basic\n",
    "import pandas as pd\n",
    "import unicodedata\n",
    "import numpy as np\n",
    "import difflib\n",
    "from pandarallel import pandarallel\n",
    "import os\n",
    "#Spatial\n",
    "import geopandas as gpd\n",
    "from shapely.geometry import Point"
   ]
  },
  {
   "cell_type": "markdown",
   "metadata": {},
   "source": [
    "## Functions"
   ]
  },
  {
   "cell_type": "code",
   "execution_count": 24,
   "metadata": {},
   "outputs": [],
   "source": [
    "#Function to remove accents on string\n",
    "def strip_accents(text):\n",
    "    try:\n",
    "        text = unicode(text, 'utf-8')\n",
    "    except NameError: # unicode is a default on python 3 \n",
    "        pass\n",
    "    text = unicodedata.normalize('NFD', text)\\\n",
    "           .encode('ascii', 'ignore')\\\n",
    "           .decode(\"utf-8\")\n",
    "    return str(text)"
   ]
  },
  {
   "cell_type": "code",
   "execution_count": 25,
   "metadata": {},
   "outputs": [],
   "source": [
    "#Function to prepare RegBL to geocoding\n",
    "def regbl_wrangling(regbl_dat):\n",
    "    \n",
    "    #Remove missing addresses\n",
    "    print('Number of missing addresses: ',regbl_dat[regbl_dat.STRNAME.isna()].shape[0],'(',round(regbl_dat[regbl_dat.STRNAME.isna()].shape[0]*100/regbl_dat.shape[0],2),'%)')\n",
    "    regbl_dat=regbl_dat[~regbl_dat.STRNAME.isna()]\n",
    "    print('Missing addresses were removed from the dataset.')\n",
    "    \n",
    "    #Remove accents\n",
    "    regbl_dat['STRNAME']=regbl_dat.STRNAME.map(strip_accents)\n",
    "    \n",
    "    #Convert to street and municipality upper case\n",
    "    regbl_dat['STRNAME']=regbl_dat.STRNAME.map(str.upper)\n",
    "    regbl_dat['GDENAME']=regbl_dat.GDENAME.map(str.upper)\n",
    "    \n",
    "    #Select only essential columns\n",
    "    regbl_dat=regbl_dat[['EGID','STRNAME','DEINR','PLZ4','GDENAME','GKODE','GKODN']]\n",
    "    \n",
    "    return regbl_dat"
   ]
  },
  {
   "cell_type": "code",
   "execution_count": 26,
   "metadata": {},
   "outputs": [],
   "source": [
    "#Function to extract the street number from an address\n",
    "    #The algorithm splits with Regex the address field when the first digit appears.\n",
    "    #Thus, Chemin de Montelly 1 -> ['Chemin de Montelly','1'] and Avenue de Morges 9b -> ['Avenue de Morges','9b']\n",
    "    #Addresses that are not in the standard format (e.g. 24, grande rue) will not be catched however, but the proportion is small\n",
    "    #If there is no digit (e.g. EMS de l'Ours) or if the address is not in a standard format (see above), the split will return only one element (i.e. the entire address)\n",
    "    #In this case, the algorithm will return a NaN value.\n",
    "    #On the other hand, the algorithnm will return the 2nd part of the split (i.e. street number)\n",
    "def extract_deinr(x):\n",
    "    split=x.rue.str.split(pat=\"(?<=[a-zA-Z])\\\\s*(?=[0-9])\",expand=True)\n",
    "    if split.shape[1]>1:\n",
    "        return split[1]\n",
    "    else:\n",
    "        return np.nan "
   ]
  },
  {
   "cell_type": "code",
   "execution_count": 27,
   "metadata": {},
   "outputs": [],
   "source": [
    "#Function to return centroids of the npa\n",
    "def npa_centroid(ville,cp):\n",
    "    try: #match with name + PLZ\n",
    "        e=npa[(npa.Ortschaftsname==ville) & (npa.PLZ==cp)].E.values[0]\n",
    "        n=npa[(npa.Ortschaftsname==ville) & (npa.PLZ==cp)].N.values[0]\n",
    "    except: #take the first PLZ of the list (reason: no match with the name)\n",
    "        e=npa[npa.PLZ==cp].E.values[0]\n",
    "        n=npa[npa.PLZ==cp].N.values[0]  \n",
    "    return e,n "
   ]
  },
  {
   "cell_type": "markdown",
   "metadata": {},
   "source": [
    "## Import adresses\n",
    "\n",
    "### VD"
   ]
  },
  {
   "cell_type": "code",
   "execution_count": 28,
   "metadata": {},
   "outputs": [
    {
     "data": {
      "text/html": [
       "<div>\n",
       "<style scoped>\n",
       "    .dataframe tbody tr th:only-of-type {\n",
       "        vertical-align: middle;\n",
       "    }\n",
       "\n",
       "    .dataframe tbody tr th {\n",
       "        vertical-align: top;\n",
       "    }\n",
       "\n",
       "    .dataframe thead th {\n",
       "        text-align: right;\n",
       "    }\n",
       "</style>\n",
       "<table border=\"1\" class=\"dataframe\">\n",
       "  <thead>\n",
       "    <tr style=\"text-align: right;\">\n",
       "      <th></th>\n",
       "      <th>EGID</th>\n",
       "      <th>EDID</th>\n",
       "      <th>GDEKT</th>\n",
       "      <th>GDENR</th>\n",
       "      <th>GDENAME</th>\n",
       "      <th>STRNAME</th>\n",
       "      <th>DEINR</th>\n",
       "      <th>PLZ4</th>\n",
       "      <th>PLZZ</th>\n",
       "      <th>PLZNAME</th>\n",
       "      <th>GKODE</th>\n",
       "      <th>GKODN</th>\n",
       "      <th>STRSP</th>\n",
       "    </tr>\n",
       "  </thead>\n",
       "  <tbody>\n",
       "    <tr>\n",
       "      <th>0</th>\n",
       "      <td>780001</td>\n",
       "      <td>0</td>\n",
       "      <td>VD</td>\n",
       "      <td>5582</td>\n",
       "      <td>Cheseaux-sur-Lausanne</td>\n",
       "      <td>Rue de la Mèbre</td>\n",
       "      <td>1</td>\n",
       "      <td>1033</td>\n",
       "      <td>0</td>\n",
       "      <td>Cheseaux-sur-Lausanne</td>\n",
       "      <td>2536244.885</td>\n",
       "      <td>1159433.015</td>\n",
       "      <td>fr</td>\n",
       "    </tr>\n",
       "    <tr>\n",
       "      <th>1</th>\n",
       "      <td>780002</td>\n",
       "      <td>0</td>\n",
       "      <td>VD</td>\n",
       "      <td>5582</td>\n",
       "      <td>Cheseaux-sur-Lausanne</td>\n",
       "      <td>Rue de la Mèbre</td>\n",
       "      <td>3</td>\n",
       "      <td>1033</td>\n",
       "      <td>0</td>\n",
       "      <td>Cheseaux-sur-Lausanne</td>\n",
       "      <td>2536254.735</td>\n",
       "      <td>1159419.614</td>\n",
       "      <td>fr</td>\n",
       "    </tr>\n",
       "    <tr>\n",
       "      <th>2</th>\n",
       "      <td>780003</td>\n",
       "      <td>0</td>\n",
       "      <td>VD</td>\n",
       "      <td>5582</td>\n",
       "      <td>Cheseaux-sur-Lausanne</td>\n",
       "      <td>Rue de la Mèbre</td>\n",
       "      <td>2</td>\n",
       "      <td>1033</td>\n",
       "      <td>0</td>\n",
       "      <td>Cheseaux-sur-Lausanne</td>\n",
       "      <td>2536177.835</td>\n",
       "      <td>1159417.614</td>\n",
       "      <td>fr</td>\n",
       "    </tr>\n",
       "    <tr>\n",
       "      <th>3</th>\n",
       "      <td>780004</td>\n",
       "      <td>0</td>\n",
       "      <td>VD</td>\n",
       "      <td>5582</td>\n",
       "      <td>Cheseaux-sur-Lausanne</td>\n",
       "      <td>Rue de la Mèbre</td>\n",
       "      <td>4</td>\n",
       "      <td>1033</td>\n",
       "      <td>0</td>\n",
       "      <td>Cheseaux-sur-Lausanne</td>\n",
       "      <td>2536207.835</td>\n",
       "      <td>1159387.813</td>\n",
       "      <td>fr</td>\n",
       "    </tr>\n",
       "    <tr>\n",
       "      <th>4</th>\n",
       "      <td>780005</td>\n",
       "      <td>0</td>\n",
       "      <td>VD</td>\n",
       "      <td>5582</td>\n",
       "      <td>Cheseaux-sur-Lausanne</td>\n",
       "      <td>Rue de la Mèbre</td>\n",
       "      <td>6</td>\n",
       "      <td>1033</td>\n",
       "      <td>0</td>\n",
       "      <td>Cheseaux-sur-Lausanne</td>\n",
       "      <td>2536228.236</td>\n",
       "      <td>1159366.513</td>\n",
       "      <td>fr</td>\n",
       "    </tr>\n",
       "  </tbody>\n",
       "</table>\n",
       "</div>"
      ],
      "text/plain": [
       "     EGID  EDID GDEKT  GDENR                GDENAME          STRNAME DEINR  \\\n",
       "0  780001     0    VD   5582  Cheseaux-sur-Lausanne  Rue de la Mèbre     1   \n",
       "1  780002     0    VD   5582  Cheseaux-sur-Lausanne  Rue de la Mèbre     3   \n",
       "2  780003     0    VD   5582  Cheseaux-sur-Lausanne  Rue de la Mèbre     2   \n",
       "3  780004     0    VD   5582  Cheseaux-sur-Lausanne  Rue de la Mèbre     4   \n",
       "4  780005     0    VD   5582  Cheseaux-sur-Lausanne  Rue de la Mèbre     6   \n",
       "\n",
       "   PLZ4  PLZZ                PLZNAME        GKODE        GKODN STRSP  \n",
       "0  1033     0  Cheseaux-sur-Lausanne  2536244.885  1159433.015    fr  \n",
       "1  1033     0  Cheseaux-sur-Lausanne  2536254.735  1159419.614    fr  \n",
       "2  1033     0  Cheseaux-sur-Lausanne  2536177.835  1159417.614    fr  \n",
       "3  1033     0  Cheseaux-sur-Lausanne  2536207.835  1159387.813    fr  \n",
       "4  1033     0  Cheseaux-sur-Lausanne  2536228.236  1159366.513    fr  "
      ]
     },
     "execution_count": 28,
     "metadata": {},
     "output_type": "execute_result"
    }
   ],
   "source": [
    "vd_addr=pd.read_csv('../data/RegBL/VD.csv', delimiter=';')\n",
    "vd_addr.shape\n",
    "vd_addr.head(5)"
   ]
  },
  {
   "cell_type": "code",
   "execution_count": 29,
   "metadata": {},
   "outputs": [
    {
     "name": "stdout",
     "output_type": "stream",
     "text": [
      "Number of missing addresses:  527 ( 0.32 %)\n",
      "Missing addresses were removed from the dataset.\n"
     ]
    },
    {
     "name": "stderr",
     "output_type": "stream",
     "text": [
      "<ipython-input-25-451ecbb02586>:10: SettingWithCopyWarning: \n",
      "A value is trying to be set on a copy of a slice from a DataFrame.\n",
      "Try using .loc[row_indexer,col_indexer] = value instead\n",
      "\n",
      "See the caveats in the documentation: https://pandas.pydata.org/pandas-docs/stable/user_guide/indexing.html#returning-a-view-versus-a-copy\n",
      "  regbl_dat['STRNAME']=regbl_dat.STRNAME.map(strip_accents)\n",
      "<ipython-input-25-451ecbb02586>:13: SettingWithCopyWarning: \n",
      "A value is trying to be set on a copy of a slice from a DataFrame.\n",
      "Try using .loc[row_indexer,col_indexer] = value instead\n",
      "\n",
      "See the caveats in the documentation: https://pandas.pydata.org/pandas-docs/stable/user_guide/indexing.html#returning-a-view-versus-a-copy\n",
      "  regbl_dat['STRNAME']=regbl_dat.STRNAME.map(str.upper)\n",
      "<ipython-input-25-451ecbb02586>:14: SettingWithCopyWarning: \n",
      "A value is trying to be set on a copy of a slice from a DataFrame.\n",
      "Try using .loc[row_indexer,col_indexer] = value instead\n",
      "\n",
      "See the caveats in the documentation: https://pandas.pydata.org/pandas-docs/stable/user_guide/indexing.html#returning-a-view-versus-a-copy\n",
      "  regbl_dat['GDENAME']=regbl_dat.GDENAME.map(str.upper)\n"
     ]
    }
   ],
   "source": [
    "#wrangling\n",
    "vd_addr=regbl_wrangling(vd_addr)"
   ]
  },
  {
   "cell_type": "markdown",
   "metadata": {},
   "source": [
    "### NPA"
   ]
  },
  {
   "cell_type": "code",
   "execution_count": 30,
   "metadata": {},
   "outputs": [
    {
     "data": {
      "text/html": [
       "<div>\n",
       "<style scoped>\n",
       "    .dataframe tbody tr th:only-of-type {\n",
       "        vertical-align: middle;\n",
       "    }\n",
       "\n",
       "    .dataframe tbody tr th {\n",
       "        vertical-align: top;\n",
       "    }\n",
       "\n",
       "    .dataframe thead th {\n",
       "        text-align: right;\n",
       "    }\n",
       "</style>\n",
       "<table border=\"1\" class=\"dataframe\">\n",
       "  <thead>\n",
       "    <tr style=\"text-align: right;\">\n",
       "      <th></th>\n",
       "      <th>Ortschaftsname</th>\n",
       "      <th>PLZ</th>\n",
       "      <th>Zusatzziffer</th>\n",
       "      <th>Gemeindename</th>\n",
       "      <th>BFS-Nr</th>\n",
       "      <th>Kantonskürzel</th>\n",
       "      <th>E</th>\n",
       "      <th>N</th>\n",
       "      <th>Sprache</th>\n",
       "    </tr>\n",
       "  </thead>\n",
       "  <tbody>\n",
       "    <tr>\n",
       "      <th>0</th>\n",
       "      <td>Aeugst am Albis</td>\n",
       "      <td>8914</td>\n",
       "      <td>0</td>\n",
       "      <td>Aeugst am Albis</td>\n",
       "      <td>1</td>\n",
       "      <td>ZH</td>\n",
       "      <td>2679435.817</td>\n",
       "      <td>1235653.185</td>\n",
       "      <td>de</td>\n",
       "    </tr>\n",
       "    <tr>\n",
       "      <th>1</th>\n",
       "      <td>Aeugstertal</td>\n",
       "      <td>8914</td>\n",
       "      <td>2</td>\n",
       "      <td>Aeugst am Albis</td>\n",
       "      <td>1</td>\n",
       "      <td>ZH</td>\n",
       "      <td>2679815.475</td>\n",
       "      <td>1237410.215</td>\n",
       "      <td>de</td>\n",
       "    </tr>\n",
       "    <tr>\n",
       "      <th>2</th>\n",
       "      <td>Zwillikon</td>\n",
       "      <td>8909</td>\n",
       "      <td>0</td>\n",
       "      <td>Affoltern am Albis</td>\n",
       "      <td>2</td>\n",
       "      <td>ZH</td>\n",
       "      <td>2675104.519</td>\n",
       "      <td>1237890.488</td>\n",
       "      <td>de</td>\n",
       "    </tr>\n",
       "    <tr>\n",
       "      <th>3</th>\n",
       "      <td>Affoltern am Albis</td>\n",
       "      <td>8910</td>\n",
       "      <td>0</td>\n",
       "      <td>Affoltern am Albis</td>\n",
       "      <td>2</td>\n",
       "      <td>ZH</td>\n",
       "      <td>2676439.358</td>\n",
       "      <td>1236966.371</td>\n",
       "      <td>de</td>\n",
       "    </tr>\n",
       "    <tr>\n",
       "      <th>4</th>\n",
       "      <td>Bonstetten</td>\n",
       "      <td>8906</td>\n",
       "      <td>0</td>\n",
       "      <td>Bonstetten</td>\n",
       "      <td>3</td>\n",
       "      <td>ZH</td>\n",
       "      <td>2677798.571</td>\n",
       "      <td>1241024.843</td>\n",
       "      <td>de</td>\n",
       "    </tr>\n",
       "  </tbody>\n",
       "</table>\n",
       "</div>"
      ],
      "text/plain": [
       "       Ortschaftsname   PLZ  Zusatzziffer        Gemeindename  BFS-Nr  \\\n",
       "0     Aeugst am Albis  8914             0     Aeugst am Albis       1   \n",
       "1         Aeugstertal  8914             2     Aeugst am Albis       1   \n",
       "2           Zwillikon  8909             0  Affoltern am Albis       2   \n",
       "3  Affoltern am Albis  8910             0  Affoltern am Albis       2   \n",
       "4          Bonstetten  8906             0          Bonstetten       3   \n",
       "\n",
       "  Kantonskürzel            E            N Sprache  \n",
       "0            ZH  2679435.817  1235653.185      de  \n",
       "1            ZH  2679815.475  1237410.215      de  \n",
       "2            ZH  2675104.519  1237890.488      de  \n",
       "3            ZH  2676439.358  1236966.371      de  \n",
       "4            ZH  2677798.571  1241024.843      de  "
      ]
     },
     "execution_count": 30,
     "metadata": {},
     "output_type": "execute_result"
    }
   ],
   "source": [
    "npa=pd.read_csv('../data/NPA/PLZO_CSV_LV95.csv', delimiter=';',encoding='iso-8859-1')\n",
    "npa.shape\n",
    "npa.head(5)"
   ]
  },
  {
   "cell_type": "code",
   "execution_count": 31,
   "metadata": {},
   "outputs": [],
   "source": [
    "#Remove accents in municipalities\n",
    "npa['Ortschaftsname']=npa.Ortschaftsname.map(strip_accents)\n",
    "#Convert municipalities to upper case\n",
    "npa['Ortschaftsname']=npa.Ortschaftsname.map(str.upper)\n",
    "#Select only essential columns\n",
    "npa=npa[['Ortschaftsname','PLZ','E','N']]"
   ]
  },
  {
   "cell_type": "markdown",
   "metadata": {},
   "source": [
    "### CANTONS"
   ]
  },
  {
   "cell_type": "code",
   "execution_count": 32,
   "metadata": {},
   "outputs": [],
   "source": [
    "cantons=gpd.read_file(\"../data/SWISSBOUNDARIES2018/swissBOUNDARIES2D_KANTONSGEBIET.shp\")\n",
    "#Rename columns with appropriate names (lowercase)\n",
    "cantons.columns=['uuid','date_modif','date_creat','data_yr_creat','data_mth_creat','data_yr_verif','data_mth_verif','modif','source','data_yr_upd','data_mth_upd','admin_level','quality','country_code','num','lake_area','area','part','name','nb_hab','geometry']\n",
    "#Keep only Swiss features\n",
    "cantons=cantons[cantons.country_code=='CH']"
   ]
  },
  {
   "cell_type": "markdown",
   "metadata": {},
   "source": [
    "## Institutions"
   ]
  },
  {
   "cell_type": "code",
   "execution_count": 33,
   "metadata": {},
   "outputs": [],
   "source": [
    "#Create file with addresses of insitutions\n",
    "institutions_dat=[['ECOLE HOTELIERE','ROUTE DE COJONNEX','18','1000','LAUSANNE'],\n",
    "                 ['EPO','CHEMIN DES PAQUERETS','9','1350','ORBE'], \n",
    "                 ['P.A. FOYER EVAM','ROUTE DE CHAVANNES','33','1007','LAUSANNE'],\n",
    "                 ['P.A. FOYER EVAM','ROUTE DE RECULAN','8','1024','ECUBLENS'],\n",
    "                 ['P.A. FOYER EVAM','CHEMIN CHARMEUR','8','1023','CRISSIER'],\n",
    "                 ['P.A. FOYER EVAM',\"CHEMIN DE L'ECLUSE\",'3','1880','BEX'],\n",
    "                 ['P.A. FOYER EVAM',\"ROUTE DE CORNEAUX\",'13','1832','CHAMBY'],\n",
    "                 ['P.A. FOYER EVAM',\"CHEMIN DE GRAND-VENNES\",'6','1066','EPALINGES'],\n",
    "                 ['P.A. FOYER EVAM',\"AVENUE DU CHABLAIS\",'49','1000','LAUSANNE'],\n",
    "                 ['P.A. FOYER EVAM',\"CHEMIN D'ENTRE-BOIS\",'2b','1018','LAUSANNE'],\n",
    "                 ['P.A. FOYER EVAM',\"AVENUE DE VALMONT\",'32','1010','LAUSANNE'],\n",
    "                 ['P.A. FOYER EVAM',\"ROUTE DES QUATRE CHALETS\",'11','1854','LEYSIN'],\n",
    "                 ['P.A. FOYER EVAM',\"RUE DE L'INDUSTRIE\",'11','1450','SAINTE-CROIX'],\n",
    "                 ['P.A. FOYER EVAM',\"AVENUE DU GENERAL-GUISAN\",'62','1800','VEVEY'],\n",
    "                 ['P.A. FOYER EVAM',\"RUE DE MONTAGNY\",'27','1400','YVERDON-LES-BAINS'],\n",
    "                 ['ECOLE LE CHATELARD','ROUTE DES NARCISSES','80','1833','MONTREUX'],\n",
    "                 [\"FONDATION DE L'ORME\",'ROUTE DES PLAINES-DU-LOUP','4a','1018','LAUSANNE'],\n",
    "                 ['FONDATION CLEMENCE','AVENUE DE MORGES','64','1004','LAUSANNE'],\n",
    "                 ['FONDATION LA ROZAVERE','CHEMIN DE ROVEREAZ','23','1012','LAUSANNE'],\n",
    "                 ['FONDATION MONT-CALME','RUE DU BUGNON','15','1005','LAUSANNE'],\n",
    "                 ['FONDATION EBEN-HEZER','CHEMIN DE ROVEREAZ','25','1012','LAUSANNE'],\n",
    "                 ['EMS LA FAVERGE','ROUTE DE BULLE','10','1610','ORON-LA-VILLE'],\n",
    "                 ['FONDATION LES BAUMETTES','AVENUE DES BAUMETTES','120','1020','RENENS'],\n",
    "                 ['EMS LA PAIX DU SOIR','CHEMIN DE LONGERAIE','9','1052','LE-MONT-SUR-LAUSANNE'],\n",
    "                 ['DOMAINE DE LA GRACIEUSE','CHEMIN DES VIGNES','14','1027','LONAY'],\n",
    "                 ['EMS LE MARRONNIER','ROUTE DE LAVAUX','20','1095','LUTRY'],\n",
    "                 ['EMS CHANTEMERLE','CHEMIN DE CHANTEMERLE','3','1010','LAUSANNE'],\n",
    "                 ['EMS CLAIR-SOLEIL','ROUTE DE LA PIERRE','7','1024','ECUBLENS'],\n",
    "                 ['EMS BOIS-GENTIL','CHEMIN DU PETIT FLON','49','1018','LAUSANNE'],\n",
    "                 ['FONDATION BOIS-GENTIL','CHEMIN DU PETIT FLON','49','1018','LAUSANNE'],\n",
    "                 [\"EMS L'ESCAPADE\",'RUE DU MARTINET','2','1188','GIMEL'],\n",
    "                 ['EMS LA CLAIRIERE','ROUTE DE SAINT-CERGUE','11','1295','MIES'],\n",
    "                 ['EMS LE HOME LES PINS SA','AVENUE DES PEUPLIERS','22a','1009','PULLY'],\n",
    "                 ['EMS LE SIGNAL','ROUTE DU SIGNAL','6','1080','LES CULLAYES'],\n",
    "                 ['EMS LA CHOCOLATIERE','RUE DE LA CHOCOLATIERE','30','1026','ECHANDENS'],\n",
    "                 ['EMS LES LYS','RUE DES METIERS','3','1008','PRILLY'], \n",
    "                 ['EMS PRIMEROCHE','RUE DES METIERS','3','1008','PRILLY'], \n",
    "                 ['EMS PARC DE BEAUSOBRE','AVENUE DE CHANEL','26','1110','MORGES'],\n",
    "                 ['FONDATION BOISSONNET','CHEMIN DE BOISSONNET','51','1010','LAUSANNE'],\n",
    "                 ['FONDATION DE VERNAND','CHEMIN DE PRAZ-LAU','5','1033','CHESEAUX-SUR-LAUSANNE'],\n",
    "                 ['FONDATION DU MIDI','CHEMIN DU MIDI','2','1260','NYON'],\n",
    "                 ['FONDATION DU LEVANT','CHEMIN DU LEVANT','159','1005','LAUSANNE'],\n",
    "                 ['FOYER DES AUBÉPINES','CHEMIN DES AUBEPINES','4','1004','LAUSANNE']]\n",
    "institutions=pd.DataFrame(institutions_dat,columns=['name','strname','deinr','cp','ville'])\n",
    "institutions['cp']=institutions.cp.astype(int)"
   ]
  },
  {
   "cell_type": "markdown",
   "metadata": {},
   "source": [
    "## Import COVID data"
   ]
  },
  {
   "cell_type": "code",
   "execution_count": 34,
   "metadata": {},
   "outputs": [
    {
     "name": "stderr",
     "output_type": "stream",
     "text": [
      "/home/aladoy/anaconda3/envs/geocovid/lib/python3.8/site-packages/IPython/core/interactiveshell.py:3145: DtypeWarning: Columns (14,15,17) have mixed types.Specify dtype option on import or set low_memory=False.\n",
      "  has_raised = await self.run_ast_nodes(code_ast.body, cell_name,\n"
     ]
    },
    {
     "data": {
      "text/plain": [
       "(41354, 18)"
      ]
     },
     "execution_count": 34,
     "metadata": {},
     "output_type": "execute_result"
    }
   ],
   "source": [
    "#Load file\n",
    "covid_tests=pd.read_csv('../data/COVID/200909_Covid-19_VD.csv',delimiter=';',encoding='iso-8859-1')\n",
    "covid_tests.shape"
   ]
  },
  {
   "cell_type": "code",
   "execution_count": 35,
   "metadata": {},
   "outputs": [],
   "source": [
    "#Rename columns\n",
    "covid_tests.columns=['id_demande','id_patient','sexe','date_naissance','age','id_sejour','date_prelevement','date_reception','rue','cp','ville','canton_pays','prel','res_cov','res_inf_A','res_inf_B','inf','res_rsv']"
   ]
  },
  {
   "cell_type": "code",
   "execution_count": 36,
   "metadata": {},
   "outputs": [
    {
     "data": {
      "text/plain": [
       "id_demande           object\n",
       "id_patient           object\n",
       "sexe                 object\n",
       "date_naissance       object\n",
       "age                  object\n",
       "id_sejour            object\n",
       "date_prelevement     object\n",
       "date_reception       object\n",
       "rue                  object\n",
       "cp                   object\n",
       "ville                object\n",
       "canton_pays          object\n",
       "prel                 object\n",
       "res_cov               int64\n",
       "res_inf_A            object\n",
       "res_inf_B            object\n",
       "inf                 float64\n",
       "res_rsv              object\n",
       "dtype: object"
      ]
     },
     "execution_count": 36,
     "metadata": {},
     "output_type": "execute_result"
    }
   ],
   "source": [
    "covid_tests.dtypes"
   ]
  },
  {
   "cell_type": "markdown",
   "metadata": {},
   "source": [
    "### Data cleaning"
   ]
  },
  {
   "cell_type": "code",
   "execution_count": 37,
   "metadata": {},
   "outputs": [
    {
     "name": "stdout",
     "output_type": "stream",
     "text": [
      "Number of incorrect tests: (cf. mail with G.Greub)  5\n",
      "Rows were removed from the dataset\n"
     ]
    }
   ],
   "source": [
    "#Remove incorrect data (cf. mail with G.Greub)\n",
    "print('Number of incorrect tests: (cf. mail with G.Greub) ', covid_tests[covid_tests.res_inf_B=='I'].shape[0])\n",
    "covid_tests=covid_tests[covid_tests.res_inf_B!='I']\n",
    "print('Rows were removed from the dataset')"
   ]
  },
  {
   "cell_type": "code",
   "execution_count": 38,
   "metadata": {},
   "outputs": [
    {
     "name": "stdout",
     "output_type": "stream",
     "text": [
      "Number of patients that did not give their address:  1381 ( 3.34 %)\n",
      "We also checked that these people had not given their address during a previous stay.\n",
      "Rows were removed from the dataset\n"
     ]
    }
   ],
   "source": [
    "#Remove patients that did not indicate their address\n",
    "print('Number of patients that did not give their address: ', covid_tests[covid_tests.ville=='*** ADRESSE PAS FOURNIE'].shape[0], '(',round((covid_tests[covid_tests.ville=='*** ADRESSE PAS FOURNIE'].shape[0]*100)/covid_tests.shape[0],2),'%)')\n",
    "print('We also checked that these people had not given their address during a previous stay.')\n",
    "covid_tests=covid_tests[covid_tests.ville!='*** ADRESSE PAS FOURNIE']\n",
    "print('Rows were removed from the dataset')"
   ]
  },
  {
   "cell_type": "code",
   "execution_count": 39,
   "metadata": {},
   "outputs": [
    {
     "name": "stdout",
     "output_type": "stream",
     "text": [
      "Missing country/canton information (should be equal to 0, if not, fill manually missing values):  0\n"
     ]
    }
   ],
   "source": [
    "#Fill manually missing canton_pays info.\n",
    "#covid_tests.canton_pays.unique()\n",
    "covid_tests.loc[34,'canton_pays']='VD-CH'\n",
    "covid_tests.loc[2271,'canton_pays']='VD-CH'\n",
    "covid_tests.loc[9719,'canton_pays']='-US'\n",
    "covid_tests.loc[15629,'canton_pays']='VD-CH'\n",
    "covid_tests.loc[18232,'canton_pays']='VD-CH'\n",
    "covid_tests.loc[25584,'canton_pays']='NE-CH'\n",
    "#Number of missing canton_pays (should be equal to 0)\n",
    "print('Missing country/canton information (should be equal to 0, if not, fill manually missing values): ',covid_tests[covid_tests.canton_pays=='-'].shape[0])"
   ]
  },
  {
   "cell_type": "code",
   "execution_count": 40,
   "metadata": {},
   "outputs": [
    {
     "name": "stdout",
     "output_type": "stream",
     "text": [
      "canton_pays\n",
      "-00         19\n",
      "-AE          6\n",
      "-AL          2\n",
      "-AR          1\n",
      "-AT          2\n",
      "-BA          1\n",
      "-BE         12\n",
      "-BF          2\n",
      "-BG          9\n",
      "-BJ          1\n",
      "-BR          6\n",
      "-BY          1\n",
      "-CA          5\n",
      "-CH      16482\n",
      "-CN          5\n",
      "-DE          8\n",
      "-DO          1\n",
      "-EC          2\n",
      "-EE          1\n",
      "-ES         10\n",
      "-FR        526\n",
      "-GB          3\n",
      "-GR         14\n",
      "-HK          2\n",
      "-HR          1\n",
      "-IT         56\n",
      "-KZ          4\n",
      "-LB          8\n",
      "-LT         11\n",
      "-LU          1\n",
      "-LV          1\n",
      "-MA          1\n",
      "-MC          1\n",
      "-MD          4\n",
      "-MK          1\n",
      "-MX          2\n",
      "-NL          1\n",
      "-NO          2\n",
      "-PL          1\n",
      "-PT         12\n",
      "-RO         18\n",
      "-RS          2\n",
      "-RU         35\n",
      "-SG          1\n",
      "-SI          3\n",
      "-TR          2\n",
      "-UA          7\n",
      "-US          7\n",
      "-XZ          3\n",
      "AG-CH        5\n",
      "AR-CH        1\n",
      "BE-CH      184\n",
      "BL-CH        4\n",
      "BS-CH        6\n",
      "FR-CH      743\n",
      "GE-CH      162\n",
      "GR-CH        3\n",
      "JU-CH       34\n",
      "LU-CH        1\n",
      "NE-CH      927\n",
      "NW-CH        1\n",
      "SG-CH        4\n",
      "SH-CH        1\n",
      "SO-CH        3\n",
      "SZ-CH        7\n",
      "TI-CH       26\n",
      "VD-CH    20098\n",
      "VS-CH      424\n",
      "ZG-CH        4\n",
      "ZH-CH       24\n"
     ]
    }
   ],
   "source": [
    "#Number of tests per canton_pays\n",
    "print(covid_tests.groupby(by='canton_pays').count()['id_demande'].to_string())"
   ]
  },
  {
   "cell_type": "code",
   "execution_count": 41,
   "metadata": {},
   "outputs": [
    {
     "name": "stdout",
     "output_type": "stream",
     "text": [
      "Number of patients that did not live in Switzerland:  824 ( 2.06 %)\n",
      "Rows were removed from the dataset\n"
     ]
    }
   ],
   "source": [
    "#Keep only patients living in Switzerland\n",
    "print('Number of patients that did not live in Switzerland: ', covid_tests[~covid_tests.canton_pays.str.endswith('-CH')].shape[0], '(',round((covid_tests[~covid_tests.canton_pays.str.endswith('-CH')].shape[0]*100)/covid_tests.shape[0],2),'%)')\n",
    "covid_tests=covid_tests[covid_tests.canton_pays.str.endswith('-CH')]\n",
    "print('Rows were removed from the dataset')"
   ]
  },
  {
   "cell_type": "code",
   "execution_count": 42,
   "metadata": {},
   "outputs": [
    {
     "name": "stdout",
     "output_type": "stream",
     "text": [
      "Number of homeless patients:  10 ( 0.03 %)\n",
      "Rows were removed from the dataset\n"
     ]
    }
   ],
   "source": [
    "#Remove homeless patients\n",
    "print('Number of homeless patients: ', covid_tests[covid_tests.cp=='1'].shape[0], '(',round((covid_tests[covid_tests.cp=='1'].shape[0]*100)/covid_tests.shape[0],2),'%)')\n",
    "covid_tests=covid_tests[covid_tests.cp!='1']\n",
    "print('Rows were removed from the dataset')"
   ]
  },
  {
   "cell_type": "markdown",
   "metadata": {},
   "source": [
    "### Data wrangling"
   ]
  },
  {
   "cell_type": "code",
   "execution_count": 43,
   "metadata": {},
   "outputs": [],
   "source": [
    "#Convert postal code to integer\n",
    "covid_tests['cp']=covid_tests.cp.astype(int)"
   ]
  },
  {
   "cell_type": "code",
   "execution_count": 44,
   "metadata": {},
   "outputs": [],
   "source": [
    "#Replace heterogeneity of a few street names\n",
    "covid_tests.loc[covid_tests.rue=='P.A FOYER EVAM','rue']='P.A. FOYER EVAM'\n",
    "covid_tests.loc[covid_tests.rue=='EMS MONT CALME','rue']='EMS MONT-CALME'\n",
    "covid_tests.loc[covid_tests.rue=='FONDATION ROZAVERE','rue']='FONDATION LA ROZAVERE'\n",
    "covid_tests.loc[(covid_tests.rue=='.')|(covid_tests.rue=='-'),'rue']=np.nan\n",
    "covid_tests.loc[(covid_tests.rue.str.contains('EMS CLAIR-SOLEIL')==True) | (covid_tests.rue.str.contains('EMS CLAIR SOLEIL')==True),['rue','cp','ville']]=['EMS CLAIR-SOLEIL',1024,'ECUBLENS']"
   ]
  },
  {
   "cell_type": "code",
   "execution_count": 45,
   "metadata": {},
   "outputs": [],
   "source": [
    "def prepare_for_geocoding(df):\n",
    "    \n",
    "    #Extract address number in new column\n",
    "    df=df.assign(deinr=lambda x: extract_deinr(x))\n",
    "    \n",
    "    #Remove space between letter and digit and convert to lower case (41 A -> 41a)\n",
    "    df['deinr']=df.deinr.str.replace(\" \",\"\").str.lower()\n",
    "    print('Number of rows without deinr: ', df[df.deinr.isna()].shape[0])\n",
    "    \n",
    "    #Extract the street name from the address. \n",
    "    #Using the Regex, it corresponds to all non digits characters\n",
    "    df=df.assign(strname=lambda x: x.rue.str.extract('(\\D+)',expand=True))\n",
    "    print('Number of rows without strname: ', df[df.strname.isna()].shape[0])\n",
    "\n",
    "    #Remove leading and trailing characters (whitespace)\n",
    "    df=df.assign(strname=lambda x: x.strname.str.strip())\n",
    "    \n",
    "    return df"
   ]
  },
  {
   "cell_type": "code",
   "execution_count": 46,
   "metadata": {},
   "outputs": [
    {
     "name": "stdout",
     "output_type": "stream",
     "text": [
      "Number of rows without deinr:  3149\n",
      "Number of rows without strname:  67\n"
     ]
    }
   ],
   "source": [
    "covid_tests=prepare_for_geocoding(covid_tests)"
   ]
  },
  {
   "cell_type": "code",
   "execution_count": 47,
   "metadata": {},
   "outputs": [],
   "source": [
    "#Modify a few addresses\n",
    "covid_tests.loc[covid_tests.strname.str.contains('RUMINE') & (covid_tests.cp==1005),'strname']='AVENUE GABRIEL-DE-RUMINE'\n",
    "covid_tests.loc[covid_tests.strname.str.contains('HARPE') & (covid_tests.cp==1007),'strname']='AVENUE FREDERIC-CESAR-DE-LA-HARPE'\n",
    "covid_tests.loc[covid_tests.strname.str.contains('CHANDIEU') & (covid_tests.cp==1006),'strname']='CHEMIN ANTOINE-DE-CHANDIEU'\n",
    "covid_tests.loc[covid_tests.strname.str.contains('RECORDON') & (covid_tests.cp==1004),'strname']='AVENUE FREDERIC-RECORDON'\n",
    "covid_tests.loc[covid_tests.strname.str.contains('DRUEY') & (covid_tests.cp==1018),'strname']='AVENUE HENRI-DRUEY'\n",
    "covid_tests.loc[covid_tests.strname.str.contains('SERVAN') & (covid_tests.cp==1006),'strname']='AVENUE ANTOINE-MICHEL-SERVAN'\n",
    "covid_tests.loc[(covid_tests.strname=='CHEMIN DES DIABLERETS') & (covid_tests.deinr=='3bis') & (covid_tests.cp==1012),'deinr']='3b'\n",
    "covid_tests.loc[(covid_tests.strname=='CHEMIN DU DEVIN') & (covid_tests.deinr=='78bis') & (covid_tests.cp==1012),'deinr']='78b'\n",
    "covid_tests.loc[(covid_tests.strname=='CHEMIN DU DEVIN') & (covid_tests.deinr=='57bis') & (covid_tests.cp==1012),'deinr']='57b'\n",
    "covid_tests.loc[(covid_tests.strname=='AVENUE DE BEAUMONT') & (covid_tests.deinr=='60bis') & (covid_tests.cp==1010),'deinr']='60b'"
   ]
  },
  {
   "cell_type": "markdown",
   "metadata": {},
   "source": [
    "### Extract subsets for patients located in the canton of Vaud"
   ]
  },
  {
   "cell_type": "code",
   "execution_count": 71,
   "metadata": {},
   "outputs": [
    {
     "name": "stdout",
     "output_type": "stream",
     "text": [
      "Number of Covid tests for the Canton of Vaud:  33753 ( 86.25 )\n",
      "Subset saved in new dataframe covid_vd\n"
     ]
    }
   ],
   "source": [
    "#Covid tests for the canton of Vaud\n",
    "print('Number of Covid tests for the Canton of Vaud: ',covid_tests[covid_tests.cp.isin(vd_addr.PLZ4)].shape[0],'(',round((covid_tests[covid_tests.cp.isin(vd_addr.PLZ4)].shape[0]*100)/covid_tests.shape[0],2),')')\n",
    "covid_vd=covid_tests[covid_tests.cp.isin(vd_addr.PLZ4)]\n",
    "print('Subset saved in new dataframe covid_vd')"
   ]
  },
  {
   "cell_type": "markdown",
   "metadata": {},
   "source": [
    "## Geocoding"
   ]
  },
  {
   "cell_type": "code",
   "execution_count": 72,
   "metadata": {},
   "outputs": [],
   "source": [
    "def covid_coord(row,addr):\n",
    "    \n",
    "    if pd.isnull(row.rue):\n",
    "        e,n=npa_centroid(row.ville,row.cp)\n",
    "        note_geocoding='Geocoded at NPA centroid. No street address.'\n",
    "        \n",
    "    elif pd.isnull(row.deinr):\n",
    "        #Remove accents\n",
    "        row.rue=strip_accents(row.rue)\n",
    "        \n",
    "        if ((institutions['name']==row.rue) & (institutions['cp']==row.cp)).any()==True:\n",
    "            try:\n",
    "                institution_addr=institutions[institutions.name==row.rue]\n",
    "                e=addr[(addr.STRNAME==institution_addr.strname.values[0]) & (addr.DEINR==institution_addr.deinr.values[0]) & (addr.PLZ4==institution_addr.cp.values[0])].GKODE.values[0]\n",
    "                n=addr[(addr.STRNAME==institution_addr.strname.values[0]) & (addr.DEINR==institution_addr.deinr.values[0]) & (addr.PLZ4==institution_addr.cp.values[0])].GKODN.values[0]\n",
    "                note_geocoding='Geocoded at building. Institution.'\n",
    "            except:\n",
    "                e,n=npa_centroid(row.ville,row.cp)\n",
    "                note_geocoding='Geocoded at NPA centroid. No match on RegBL for this institution.'\n",
    "                \n",
    "        elif row.rue.find('C/')!=-1:\n",
    "            e,n=npa_centroid(row.ville,row.cp)\n",
    "            note_geocoding='Geocoded at NPA centroid. C/O address.'\n",
    "        \n",
    "        else:\n",
    "            e,n=npa_centroid(row.ville,row.cp)\n",
    "            note_geocoding='Geocoded at NPA centroid. No street number (possible improvement: search for institution or identify street).'\n",
    "    \n",
    "    else:\n",
    "        #Remove accents\n",
    "        row.strname=strip_accents(row.strname)\n",
    "        row.strname=row.strname.upper()\n",
    "        \n",
    "        try:\n",
    "            e=addr[(addr.STRNAME==row.strname) & (addr.DEINR==row.deinr) & (addr.PLZ4==row.cp)].GKODE.values[0]\n",
    "            n=addr[(addr.STRNAME==row.strname) & (addr.DEINR==row.deinr) & (addr.PLZ4==row.cp)].GKODN.values[0]\n",
    "            note_geocoding='Geocoded at building.'\n",
    "        \n",
    "        except:\n",
    "            try:\n",
    "                fuzzy_rue=difflib.get_close_matches(row.strname, addr[addr.PLZ4==row.cp].STRNAME,1,0.5)[0]\n",
    "                #print(fuzzy_rue)\n",
    "                e=addr[(addr.STRNAME==fuzzy_rue) & (addr.DEINR==row.deinr) & (addr.PLZ4==row.cp)].GKODE.values[0]\n",
    "                n=addr[(addr.STRNAME==fuzzy_rue) & (addr.DEINR==row.deinr) & (addr.PLZ4==row.cp)].GKODN.values[0]\n",
    "                note_geocoding='Geocoded at building. Fuzzy matching.'\n",
    "                \n",
    "            except:\n",
    "                if len(row.deinr)>6: #max is 520bis\n",
    "                    try:\n",
    "                        addr['full_strname']=addr.STRNAME + \" \" + addr.DEINR\n",
    "                        e=addr[(addr.full_strname==row.rue) & (addr.PLZ4==row.cp)].GKODE.values[0]\n",
    "                        n=addr[(addr.full_strname==row.rue) & (addr.PLZ4==row.cp)].GKODN.values[0]\n",
    "                        note_geocoding='Geocoded at building.'\n",
    "                    except:\n",
    "                        e,n=npa_centroid(row.ville,row.cp)\n",
    "                        note_geocoding='Geocoded at NPA centroid. No match found.'\n",
    "                else:\n",
    "                    e,n=npa_centroid(row.ville,row.cp)\n",
    "                    note_geocoding='Geocoded at NPA centroid. No match found.'\n",
    "                \n",
    "    \n",
    "    return e,n,note_geocoding"
   ]
  },
  {
   "cell_type": "code",
   "execution_count": 73,
   "metadata": {},
   "outputs": [
    {
     "name": "stdout",
     "output_type": "stream",
     "text": [
      "INFO: Pandarallel will run on 11 workers.\n",
      "INFO: Pandarallel will use Memory file system to transfer data between the main process and workers.\n"
     ]
    }
   ],
   "source": [
    "#Initialize parallel processing\n",
    "pandarallel.initialize(nb_workers=11)"
   ]
  },
  {
   "cell_type": "code",
   "execution_count": 74,
   "metadata": {},
   "outputs": [
    {
     "name": "stdout",
     "output_type": "stream",
     "text": [
      "CPU times: user 142 ms, sys: 80.5 ms, total: 222 ms\n",
      "Wall time: 5min 24s\n"
     ]
    },
    {
     "name": "stderr",
     "output_type": "stream",
     "text": [
      "<timed exec>:1: SettingWithCopyWarning: \n",
      "A value is trying to be set on a copy of a slice from a DataFrame.\n",
      "Try using .loc[row_indexer,col_indexer] = value instead\n",
      "\n",
      "See the caveats in the documentation: https://pandas.pydata.org/pandas-docs/stable/user_guide/indexing.html#returning-a-view-versus-a-copy\n"
     ]
    }
   ],
   "source": [
    "#Run function\n",
    "%time covid_vd['gkode'],covid_vd['gkodn'],covid_vd['note_geocoding']=zip(*covid_vd.parallel_apply(lambda row: covid_coord(row,vd_addr),axis=1))"
   ]
  },
  {
   "cell_type": "code",
   "execution_count": 75,
   "metadata": {},
   "outputs": [
    {
     "data": {
      "text/plain": [
       "(33753, 23)"
      ]
     },
     "execution_count": 75,
     "metadata": {},
     "output_type": "execute_result"
    }
   ],
   "source": [
    "covid_vd.shape"
   ]
  },
  {
   "cell_type": "markdown",
   "metadata": {},
   "source": [
    "## Finalize geocoding"
   ]
  },
  {
   "cell_type": "code",
   "execution_count": 79,
   "metadata": {},
   "outputs": [
    {
     "name": "stderr",
     "output_type": "stream",
     "text": [
      "/home/aladoy/anaconda3/envs/geocovid/lib/python3.8/site-packages/pyproj/crs/crs.py:53: FutureWarning: '+init=<authority>:<code>' syntax is deprecated. '<authority>:<code>' is the preferred initialization method. When making the change, be mindful of axis order changes: https://pyproj4.github.io/pyproj/stable/gotchas.html#axis-order-changes-in-proj-6\n",
      "  return _prepare_from_string(\" \".join(pjargs))\n"
     ]
    }
   ],
   "source": [
    "#Convert dataframe to GeoDataframe\n",
    "#Create a geometry column using Shapely\n",
    "covid_vd=covid_vd.assign(geometry=covid_vd.apply(lambda row: Point(row.gkode, row.gkodn),axis=1))\n",
    "\n",
    "#Convert to geodataframe\n",
    "covid_vd=gpd.GeoDataFrame(covid_vd, geometry=covid_vd.geometry, crs={'init': 'epsg:2056'})"
   ]
  },
  {
   "cell_type": "code",
   "execution_count": 80,
   "metadata": {},
   "outputs": [],
   "source": [
    "#Find tests geocoded oustide the cantons\n",
    "vd=cantons[cantons.name=='Vaud'].geometry.unary_union\n",
    "outside_vd=covid_vd[~covid_vd.geometry.within(vd)]"
   ]
  },
  {
   "cell_type": "code",
   "execution_count": 81,
   "metadata": {},
   "outputs": [],
   "source": [
    "#Remove tests that are outside VD\n",
    "# when we filtered covid tests, we used PLZ4 info, but several postal codes are overlapping two cantons (e.g. in Couvent, Versoix)\n",
    "covid_vd=covid_vd[~covid_vd.id_demande.isin(outside_vd.id_demande)]"
   ]
  },
  {
   "cell_type": "code",
   "execution_count": 83,
   "metadata": {},
   "outputs": [
    {
     "name": "stdout",
     "output_type": "stream",
     "text": [
      "Sucess\n"
     ]
    }
   ],
   "source": [
    "#Add lat/lon coordinates in new columns\n",
    "covid_vd['lon']=covid_vd.to_crs({'init': 'epsg:4326'}).geometry.x\n",
    "covid_vd['lat']=covid_vd.to_crs({'init': 'epsg:4326'}).geometry.y\n",
    "    \n",
    "path='../outputs/covid_vd.gpkg'\n",
    "    \n",
    "try:\n",
    "    if os.path.exists(path):\n",
    "        os.remove(path)\n",
    "    covid_vd.to_file(path,layer='covid_vd',driver='GPKG')\n",
    "    print('Sucess')\n",
    "except:\n",
    "    print('Error while saving data on disk')"
   ]
  },
  {
   "cell_type": "code",
   "execution_count": 84,
   "metadata": {},
   "outputs": [
    {
     "data": {
      "text/plain": [
       "note_geocoding\n",
       "Geocoded at NPA centroid. C/O address.                                                                             802\n",
       "Geocoded at NPA centroid. No match found.                                                                         1375\n",
       "Geocoded at NPA centroid. No match on RegBL for this institution.                                                   32\n",
       "Geocoded at NPA centroid. No street address.                                                                        48\n",
       "Geocoded at NPA centroid. No street number (possible improvement: search for institution or identify street).     1414\n",
       "Geocoded at building.                                                                                            19229\n",
       "Geocoded at building. Fuzzy matching.                                                                            10352\n",
       "Geocoded at building. Institution.                                                                                 399\n",
       "Name: id_demande, dtype: int64"
      ]
     },
     "execution_count": 84,
     "metadata": {},
     "output_type": "execute_result"
    }
   ],
   "source": [
    "#Statistics about geocoding\n",
    "covid_vd.groupby(by='note_geocoding').count()['id_demande']"
   ]
  },
  {
   "cell_type": "code",
   "execution_count": 85,
   "metadata": {},
   "outputs": [
    {
     "data": {
      "text/plain": [
       "(33651, 26)"
      ]
     },
     "execution_count": 85,
     "metadata": {},
     "output_type": "execute_result"
    }
   ],
   "source": [
    "covid_vd.shape"
   ]
  },
  {
   "cell_type": "code",
   "execution_count": 56,
   "metadata": {},
   "outputs": [
    {
     "data": {
      "text/plain": [
       "3671"
      ]
     },
     "execution_count": 56,
     "metadata": {},
     "output_type": "execute_result"
    }
   ],
   "source": [
    "33651-29980"
   ]
  },
  {
   "cell_type": "code",
   "execution_count": 57,
   "metadata": {},
   "outputs": [
    {
     "data": {
      "text/plain": [
       "10.909999999999997"
      ]
     },
     "execution_count": 57,
     "metadata": {},
     "output_type": "execute_result"
    }
   ],
   "source": [
    "100-89.09"
   ]
  },
  {
   "cell_type": "code",
   "execution_count": 50,
   "metadata": {},
   "outputs": [
    {
     "data": {
      "text/plain": [
       "29980"
      ]
     },
     "execution_count": 50,
     "metadata": {},
     "output_type": "execute_result"
    }
   ],
   "source": [
    "19229+399+10352"
   ]
  },
  {
   "cell_type": "code",
   "execution_count": 55,
   "metadata": {},
   "outputs": [
    {
     "data": {
      "text/plain": [
       "1.3308872581721147"
      ]
     },
     "execution_count": 55,
     "metadata": {},
     "output_type": "execute_result"
    }
   ],
   "source": [
    "(399*100)/29980"
   ]
  },
  {
   "cell_type": "code",
   "execution_count": 60,
   "metadata": {},
   "outputs": [
    {
     "data": {
      "text/plain": [
       "38.51811495505312"
      ]
     },
     "execution_count": 60,
     "metadata": {},
     "output_type": "execute_result"
    }
   ],
   "source": [
    "(1414*100)/3671"
   ]
  },
  {
   "cell_type": "code",
   "execution_count": null,
   "metadata": {},
   "outputs": [],
   "source": []
  }
 ],
 "metadata": {
  "kernelspec": {
   "display_name": "Python 3",
   "language": "python",
   "name": "python3"
  },
  "language_info": {
   "codemirror_mode": {
    "name": "ipython",
    "version": 3
   },
   "file_extension": ".py",
   "mimetype": "text/x-python",
   "name": "python",
   "nbconvert_exporter": "python",
   "pygments_lexer": "ipython3",
   "version": "3.9.1"
  }
 },
 "nbformat": 4,
 "nbformat_minor": 4
}
